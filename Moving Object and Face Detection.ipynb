#
{
 "cells": [
  {
   "cell_type": "code",
   "execution_count": null,
   "id": "c18a1c43",
   "metadata": {},
   "outputs": [],
   "source": [
    "import cv2\n",
    "import time\n",
    "import imutils\n",
    "cam=cv2.VideoCapture(0)\n",
    "time.sleep(3)\n",
    "firstFrame=None\n",
    "area=500\n",
    "while True:\n",
    "    _,img=cam.read()\n",
    "    text=\"Normal\"\n",
    "    img=imutils.resize(img,width=500)\n",
    "    grayImg=cv2.cvtColor(img,cv2.COLOR_BGR2GRAY)\n",
    "    gaussianImg=cv2.GaussianBlur(grayImg,(21,21),0)\n",
    "    if firstFrame is None:\n",
    "        firstFrame=gaussianImg\n",
    "        continue\n",
    "    imgDiff=cv2.absdiff(firstFrame,gaussianImg)\n",
    "    threshImg=cv2.threshold(imgDiff,25,255,cv2.THRESH_BINARY)[1]\n",
    "    threshImg=cv2.dilate(threshImg,None,iterations=2)\n",
    "    cnts=cv2.findContours(threshImg.copy(),cv2.RETR_EXTERNAL,cv2.CHAIN_APPROX_SIMPLE)\n",
    "    cnts=imutils.grab_contours(cnts)\n",
    "    for c in cnts:\n",
    "        if cv2.contourArea(c)<area:\n",
    "            continue\n",
    "        (x,y,w,h)=cv2.boundingRect(c)\n",
    "        cv2.rectangle(img,(x,y),(x+w,y+h),(0,255,0),2)\n",
    "        text=\"Moving Object Detected\"\n",
    "    print(text)\n",
    "    cv2.putText(img,text,(10,20),cv2.FONT_HERSHEY_SIMPLEX,0.5,(0,0,255),2)\n",
    "    cv2.imshow(\"cameraFeed\",img)\n",
    "    key=cv2.waitKey(1) & 0xFF\n",
    "    if key==ord(\"q\"):\n",
    "        break\n",
    "cam.release()\n",
    "cv2.destroyAllWindows()"
   ]
  },
#
  {
   "cell_type": "code",
   "execution_count": null,
   "id": "316b8a60",
   "metadata": {},
   "outputs": [],
   "source": [
    "import cv2 #open cv\n",
    "alg=\"haarcascade_frontalface_default.xml\"#accessed the model file\n",
    "haar_cascade=cv2.CascadeClassifier(alg)#loading the model with cv2\n",
    "cam=cv2.VideoCapture(0)#intializing camera\n",
    "while True:\n",
    "    _,img=cam.read()# read the frame from the camera\n",
    "    grayImg=cv2.cvtColor(img,cv2.COLOR_BGR2GRAY) #converting color into gray scale\n",
    "    face=haar_cascade.detectMultiScale(grayImg,1.3,4) #get coordinates of face\n",
    "    for (x,y,w,h) in face:\n",
    "        cv2.rectangle(img,(x,y),(x+w,y+h),(0,255,0),2)\n",
    "    cv2.imshow(\"FaceDetection\",img)\n",
    "    key=cv2.waitKey(1) & 0xFF\n",
    "    if key==ord('q'):\n",
    "        break\n",
    "cam.release()\n",
    "cv2.destroyAllWindows()"
   ]
  }
 ],
 "metadata": {
  "kernelspec": {
   "display_name": "Python 3 (ipykernel)",
   "language": "python",
   "name": "python3"
  },
  "language_info": {
   "codemirror_mode": {
    "name": "ipython",
    "version": 3
   },
   "file_extension": ".py",
   "mimetype": "text/x-python",
   "name": "python",
   "nbconvert_exporter": "python",
   "pygments_lexer": "ipython3",
   "version": "3.9.13"
  }
 },
 "nbformat": 4,
 "nbformat_minor": 5
}
